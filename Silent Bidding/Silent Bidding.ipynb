{
 "cells": [
  {
   "cell_type": "code",
   "execution_count": 13,
   "metadata": {},
   "outputs": [
    {
     "name": "stdout",
     "output_type": "stream",
     "text": [
      "are there any bidders yes\n",
      "Please State your name Anoop\n",
      "Please state your bidding your price 50\n",
      "are there any bidders yes\n",
      "Please State your name Nino\n",
      "Please state your bidding your price 100\n",
      "are there any bidders yes\n",
      "Please State your name Rudeas\n",
      "Please state your bidding your price 120\n",
      "are there any bidders no\n",
      "{'Anoop': 50, 'Nino': 100, 'Rudeas': 120}\n",
      "The highest bidder is Rudeas and the item is sold for 120\n"
     ]
    }
   ],
   "source": [
    "registry = {}\n",
    "answer = True\n",
    "while answer:\n",
    "    bidders = input(\"are there any bidders \")\n",
    "    if bidders=='yes':\n",
    "        bidder_name = input(\"Please State your name \")\n",
    "        bidder_price = int(input(\"Please state your bidding your price \"))\n",
    "        registry.update({bidder_name:bidder_price})\n",
    "    else:\n",
    "        answer = False\n",
    "#print(registry)                           \n",
    "\n",
    "highest_value = 0\n",
    "for name,value in registry.items():\n",
    "    if value>highest_value:\n",
    "        highest_value = value\n",
    "    if value==highest_value:\n",
    "        highest_bidder = name\n",
    "    \n",
    "print(f\"The highest bidder is {highest_bidder} and the item is sold for {highest_value}\")        "
   ]
  },
  {
   "cell_type": "code",
   "execution_count": null,
   "metadata": {},
   "outputs": [],
   "source": []
  }
 ],
 "metadata": {
  "kernelspec": {
   "display_name": "Python 3",
   "language": "python",
   "name": "python3"
  },
  "language_info": {
   "codemirror_mode": {
    "name": "ipython",
    "version": 3
   },
   "file_extension": ".py",
   "mimetype": "text/x-python",
   "name": "python",
   "nbconvert_exporter": "python",
   "pygments_lexer": "ipython3",
   "version": "3.8.5"
  }
 },
 "nbformat": 4,
 "nbformat_minor": 4
}
