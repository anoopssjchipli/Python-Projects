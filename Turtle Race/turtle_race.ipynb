{
 "cells": [
  {
   "cell_type": "code",
   "execution_count": 1,
   "metadata": {},
   "outputs": [],
   "source": [
    "from turtle import *\n",
    "import random\n"
   ]
  },
  {
   "cell_type": "code",
   "execution_count": 2,
   "metadata": {},
   "outputs": [
    {
     "name": "stdout",
     "output_type": "stream",
     "text": [
      "You've lost ! The winner is yellow\n"
     ]
    }
   ],
   "source": [
    "is_onrace = False\n",
    "screen = Screen()\n",
    "screen.setup(width=500,height=400)\n",
    "user_bet = screen.textinput(title = \"Make your bet !\", prompt = \"Which turtle will win the race ? Enter the color\")\n",
    "\n",
    "turtle_colors = ['red', 'blue', 'green', 'yellow', 'orange', 'black'] \n",
    "y_positions = [-70,-40, -10, 20, 50, 80]\n",
    "all_turtles = []\n",
    "\n",
    "for creator in range(0,6):\n",
    "    new_turtle = Turtle(shape = 'turtle')\n",
    "    new_turtle.penup()\n",
    "    new_turtle.color(turtle_colors[creator])\n",
    "    new_turtle.goto(x=-220, y = y_positions[creator])\n",
    "    all_turtles.append(new_turtle)\n",
    "\n",
    "    \n",
    "\n",
    "    \n",
    "\n",
    "if user_bet:\n",
    "    is_onrace =True\n",
    "    \n",
    "while is_onrace:\n",
    "    for turtles in all_turtles:\n",
    "        if turtles.xcor() > 230:\n",
    "            is_onrace = False\n",
    "            winning_color = turtles.pencolor()\n",
    "            if winning_color == user_bet:\n",
    "                print(f\"You've Won ! The winner is {winning_color}\")\n",
    "            else:\n",
    "                print(f\"You've lost ! The winner is {winning_color}\")\n",
    "        rand_distance = random.randint(0,10)\n",
    "        turtles.forward(rand_distance)\n",
    "    \n",
    "\n",
    "\n",
    "\n",
    "screen.exitonclick()"
   ]
  },
  {
   "cell_type": "code",
   "execution_count": null,
   "metadata": {},
   "outputs": [],
   "source": []
  }
 ],
 "metadata": {
  "kernelspec": {
   "display_name": "Python 3",
   "language": "python",
   "name": "python3"
  },
  "language_info": {
   "codemirror_mode": {
    "name": "ipython",
    "version": 3
   },
   "file_extension": ".py",
   "mimetype": "text/x-python",
   "name": "python",
   "nbconvert_exporter": "python",
   "pygments_lexer": "ipython3",
   "version": "3.8.5"
  }
 },
 "nbformat": 4,
 "nbformat_minor": 5
}
