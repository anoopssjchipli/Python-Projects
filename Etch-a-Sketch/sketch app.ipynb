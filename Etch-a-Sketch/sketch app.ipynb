{
 "cells": [
  {
   "cell_type": "code",
   "execution_count": 1,
   "id": "69b3a94c",
   "metadata": {},
   "outputs": [],
   "source": [
    "from turtle import *\n",
    "\n",
    "tim=Turtle()\n",
    "screen = Screen()"
   ]
  },
  {
   "cell_type": "code",
   "execution_count": 2,
   "id": "5d17c8e4",
   "metadata": {},
   "outputs": [],
   "source": [
    "#Creating the functions\n",
    "def move_forward():\n",
    "    tim.forward(10)\n",
    "\n",
    "def move_backward():\n",
    "    tim.backward(10)\n",
    "\n",
    "def turn_left():\n",
    "    tim.left(10)\n",
    "\n",
    "def turn_right():\n",
    "    tim.right(10)\n",
    "    \n",
    "def clear_drawing():\n",
    "    tim.clear()\n",
    "    tim.reset()\n",
    "    \n",
    "    \n",
    "screen.listen()\n",
    "screen.onkey(key=\"w\", fun=move_forward)\n",
    "screen.onkey(key=\"s\", fun=move_backward)\n",
    "screen.onkey(key=\"a\", fun=turn_left)\n",
    "screen.onkey(key=\"d\", fun=turn_right)\n",
    "screen.onkey(key=\"c\", fun=clear_drawing)\n",
    "screen.exitonclick()"
   ]
  },
  {
   "cell_type": "code",
   "execution_count": null,
   "id": "5b06e8e6",
   "metadata": {},
   "outputs": [],
   "source": [
    "#optional can add color change and pensize as well"
   ]
  }
 ],
 "metadata": {
  "kernelspec": {
   "display_name": "Python 3",
   "language": "python",
   "name": "python3"
  },
  "language_info": {
   "codemirror_mode": {
    "name": "ipython",
    "version": 3
   },
   "file_extension": ".py",
   "mimetype": "text/x-python",
   "name": "python",
   "nbconvert_exporter": "python",
   "pygments_lexer": "ipython3",
   "version": "3.8.8"
  }
 },
 "nbformat": 4,
 "nbformat_minor": 5
}
