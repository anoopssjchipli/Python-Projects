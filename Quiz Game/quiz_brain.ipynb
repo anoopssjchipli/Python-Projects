{
 "cells": [
  {
   "cell_type": "code",
   "execution_count": 4,
   "metadata": {},
   "outputs": [],
   "source": [
    "#Asking the questions\n",
    "class QuizBrain:\n",
    "    def __init__(self,question_list):\n",
    "        self.question_number = 0\n",
    "        self.q_list = question_list\n",
    "        self.score = 0\n",
    "    def still_has_questions(self):\n",
    "        return self.question_number<len(self.q_list)\n",
    "    \n",
    "    \n",
    "    def next_question(self):\n",
    "        current_question = self.q_list[self.question_number]\n",
    "        self.question_number+=1\n",
    "        user_answer = input(f\"\\nQ{self.question_number}. {current_question.q_text} True/False ?\")\n",
    "        self.check_answer(user_answer, current_question.q_answer)\n",
    "        \n",
    "    def check_answer(self,user_answer,current_answer):\n",
    "        if user_answer.lower() == current_answer.lower():\n",
    "            print(\"\\nYou got it Right !\")\n",
    "            self.score+=1\n",
    "            \n",
    "        else:\n",
    "            print(\"\\nThat's Wrong\")\n",
    "        print(f\"\\nThe correct answer was {current_answer}.\")\n",
    "        print(f\"\\nYour current score is {self.score}/{self.question_number}\")   \n",
    "        \n",
    "        \n",
    "#Checking if the answer is correct\n",
    "\n",
    "#Checking if we are at the end of the quiz"
   ]
  },
  {
   "cell_type": "code",
   "execution_count": null,
   "metadata": {},
   "outputs": [],
   "source": []
  }
 ],
 "metadata": {
  "kernelspec": {
   "display_name": "Python 3",
   "language": "python",
   "name": "python3"
  },
  "language_info": {
   "codemirror_mode": {
    "name": "ipython",
    "version": 3
   },
   "file_extension": ".py",
   "mimetype": "text/x-python",
   "name": "python",
   "nbconvert_exporter": "python",
   "pygments_lexer": "ipython3",
   "version": "3.8.5"
  }
 },
 "nbformat": 4,
 "nbformat_minor": 4
}
