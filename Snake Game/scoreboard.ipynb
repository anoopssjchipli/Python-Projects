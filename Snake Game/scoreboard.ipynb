{
 "cells": [
  {
   "cell_type": "code",
   "execution_count": null,
   "metadata": {},
   "outputs": [],
   "source": [
    "from turtle import Turtle\n",
    "ALIGNMENT = \"center\"\n",
    "FONT = (\"Arial\", 10, \"normal\")"
   ]
  },
  {
   "cell_type": "code",
   "execution_count": null,
   "metadata": {},
   "outputs": [],
   "source": [
    "class scoreboard(Turtle):\n",
    "    def __init__(self):\n",
    "        super().__init__()\n",
    "        self.score = 0\n",
    "        with open(\"data.txt\") as data:\n",
    "            self.highscore = int(data.read())\n",
    "            \n",
    "\n",
    "        self.color(\"white\")\n",
    "        self.penup()\n",
    "        self.goto(0,270)\n",
    "        self.update_score()\n",
    "        self.hideturtle()\n",
    "    \n",
    "    '''def game_over(self):\n",
    "        self.goto(0,0)\n",
    "        self.write(\"Game Over !\", align = ALIGNMENT ,font = FONT)'''\n",
    "        \n",
    "         \n",
    "    def update_score(self):\n",
    "        self.clear()\n",
    "        self.write(f\"Score = {self.score}     High score: {self.highscore}\", align = ALIGNMENT ,font = FONT)\n",
    "    \n",
    "    def reset_score(self):\n",
    "        if self.score > self.highscore:\n",
    "            self.highscore = self.score\n",
    "            with open(\"data.txt\",\"w\") as data:\n",
    "                data.write(str(self.highscore))\n",
    "        self.score = 0\n",
    "        self.update_score()\n",
    "    \n",
    "    def increase_score(self):\n",
    "        self.score+=1\n",
    "        self.update_score()"
   ]
  }
 ],
 "metadata": {
  "kernelspec": {
   "display_name": "Python 3",
   "language": "python",
   "name": "python3"
  },
  "language_info": {
   "codemirror_mode": {
    "name": "ipython",
    "version": 3
   },
   "file_extension": ".py",
   "mimetype": "text/x-python",
   "name": "python",
   "nbconvert_exporter": "python",
   "pygments_lexer": "ipython3",
   "version": "3.8.5"
  }
 },
 "nbformat": 4,
 "nbformat_minor": 4
}
