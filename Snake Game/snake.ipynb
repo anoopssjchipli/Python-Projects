{
 "cells": [
  {
   "cell_type": "code",
   "execution_count": 13,
   "metadata": {},
   "outputs": [],
   "source": [
    "from turtle import *"
   ]
  },
  {
   "cell_type": "code",
   "execution_count": 14,
   "metadata": {},
   "outputs": [],
   "source": [
    "STARTING_POSITION = [0,-20,-40]\n",
    "MOVING_DISTANCE = 20\n",
    "UP = 90\n",
    "DOWN = 270\n",
    "LEFT = 180\n",
    "RIGHT = 0"
   ]
  },
  {
   "cell_type": "code",
   "execution_count": 15,
   "metadata": {},
   "outputs": [],
   "source": [
    "class Snake:\n",
    "    \n",
    "    def __init__(self):\n",
    "        \n",
    "        self.segments = []\n",
    "        self.create_snake()\n",
    "        self.head = self.segments[0]\n",
    "    \n",
    "    \n",
    "    def create_snake(self):\n",
    "        for position in STARTING_POSITION:\n",
    "            self.add_segment(position,0)\n",
    "            \n",
    "    \n",
    "#adding a new segment was a bit of a headache.\n",
    "#here not sure why but just passing the position without actually mentioning y_coordinate works in py 2.8,3.7 but not in 5\n",
    "#I had to split x and y coordinates of squares and then pass them as seperate tuple values\n",
    "    def add_segment(self, position_x,position_y):\n",
    "        new_segment = Turtle(shape=\"square\")\n",
    "        new_segment.color(\"white\")\n",
    "        new_segment.penup()\n",
    "        new_segment.goto(position_x,position_y)\n",
    "        self.segments.append(new_segment)\n",
    "    \n",
    "    def extend(self):\n",
    "        #add new segment to snake after it eats food\n",
    "        current_last_cor = self.segments[-1].position()\n",
    "        self.add_segment(current_last_cor[0],current_last_cor[1])\n",
    "    \n",
    "    \n",
    "    \n",
    "    def move(self):\n",
    "        for seg_num in range(len(self.segments)-1,0,-1):\n",
    "            new_x = self.segments[seg_num-1].xcor()\n",
    "            new_y = self.segments[seg_num-1].ycor()\n",
    "            self.segments[seg_num].goto(new_x,new_y)\n",
    "        self.segments[0].forward(MOVING_DISTANCE)\n",
    "    \n",
    "  \n",
    "    def reset(self):\n",
    "        for seg in self.segments:\n",
    "            seg.goto(1000,100)\n",
    "            \n",
    "        self.segments.clear()\n",
    "        self.create_snake()\n",
    "        self.head = self.segments[0]\n",
    "        \n",
    "    def up(self):\n",
    "        if self.head.heading() !=DOWN:\n",
    "            self.head.setheading(UP)\n",
    "    \n",
    "    def down(self):\n",
    "        if self.head.heading() != UP:\n",
    "            self.head.setheading(DOWN)\n",
    "    \n",
    "    def left(self):\n",
    "        if self.head.heading() != RIGHT:\n",
    "            self.head.setheading(LEFT)\n",
    "    \n",
    "    def right(self):\n",
    "        if self.head.heading() != LEFT:\n",
    "            self.head.setheading(RIGHT)\n",
    "        \n",
    "    \n",
    "        "
   ]
  },
  {
   "cell_type": "code",
   "execution_count": null,
   "metadata": {},
   "outputs": [],
   "source": []
  }
 ],
 "metadata": {
  "kernelspec": {
   "display_name": "Python 3",
   "language": "python",
   "name": "python3"
  },
  "language_info": {
   "codemirror_mode": {
    "name": "ipython",
    "version": 3
   },
   "file_extension": ".py",
   "mimetype": "text/x-python",
   "name": "python",
   "nbconvert_exporter": "python",
   "pygments_lexer": "ipython3",
   "version": "3.8.8"
  }
 },
 "nbformat": 4,
 "nbformat_minor": 4
}
