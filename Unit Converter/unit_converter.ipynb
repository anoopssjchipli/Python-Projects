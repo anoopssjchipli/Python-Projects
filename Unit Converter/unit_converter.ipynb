{
 "cells": [
  {
   "cell_type": "code",
   "execution_count": 1,
   "id": "65a4d984",
   "metadata": {},
   "outputs": [],
   "source": [
    "from tkinter import *\n",
    "window = Tk()"
   ]
  },
  {
   "cell_type": "code",
   "execution_count": 2,
   "id": "87121a9a",
   "metadata": {},
   "outputs": [],
   "source": [
    "window.title(\"Miles to Km converter\")\n",
    "window.minsize(width=100,height=50)\n",
    "window.config(padx=100,pady=100)\n",
    "\n",
    "def button_clicked():\n",
    "    data = int(user_input.get())\n",
    "    data = data*1.6\n",
    "    equal_label[\"text\"] = round(data,2)\n",
    "\n",
    "#Dummy component\n",
    "#miles_label = Label()\n",
    "#miles_label.grid(column=0,row=0)\n",
    "\n",
    "#Entry Component\n",
    "user_input = Entry(width=10)\n",
    "user_input.grid(column=1,row=0)\n",
    "\n",
    "#creating a label1\n",
    "miles_label = Label(text=\"Miles\")\n",
    "miles_label.grid(column=2,row=0)\n",
    "\n",
    "\n",
    "#creating a label2\n",
    "equal_label = Label(text=\"is equal to\")\n",
    "equal_label.grid(column=0,row=1)\n",
    "\n",
    "#creating a label3\n",
    "equal_label = Label(text=\"0\")\n",
    "equal_label.grid(column=1,row=1)\n",
    "\n",
    "#creating a label3\n",
    "km_label = Label(text=\"Km\")\n",
    "km_label.grid(column=2,row=1)\n",
    "\n",
    "#creating calculate button\n",
    "calc_button = Button(text=\"Calculate\",command=button_clicked)\n",
    "calc_button.grid(column=1,row=2)\n",
    "\n"
   ]
  },
  {
   "cell_type": "code",
   "execution_count": 3,
   "id": "4c3ab432",
   "metadata": {},
   "outputs": [],
   "source": [
    "window.mainloop()"
   ]
  }
 ],
 "metadata": {
  "kernelspec": {
   "display_name": "Python 3",
   "language": "python",
   "name": "python3"
  },
  "language_info": {
   "codemirror_mode": {
    "name": "ipython",
    "version": 3
   },
   "file_extension": ".py",
   "mimetype": "text/x-python",
   "name": "python",
   "nbconvert_exporter": "python",
   "pygments_lexer": "ipython3",
   "version": "3.8.8"
  }
 },
 "nbformat": 4,
 "nbformat_minor": 5
}
