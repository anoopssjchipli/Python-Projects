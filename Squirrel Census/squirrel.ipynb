{
 "cells": [
  {
   "cell_type": "code",
   "execution_count": 13,
   "id": "d771a3ed",
   "metadata": {},
   "outputs": [],
   "source": [
    "import pandas as pd"
   ]
  },
  {
   "cell_type": "code",
   "execution_count": 31,
   "id": "77119ce9",
   "metadata": {},
   "outputs": [
    {
     "name": "stdout",
     "output_type": "stream",
     "text": [
      "2473\n",
      "392\n",
      "103\n"
     ]
    }
   ],
   "source": [
    "sq_df = pd.read_csv(\"squirrel_data.csv\")\n",
    "temp_gray = len(sq_df[sq_df['Primary Fur Color']=='Gray'])\n",
    "temp_cin = len(sq_df[sq_df['Primary Fur Color']=='Cinnamon'])\n",
    "temp_black = len(sq_df[sq_df['Primary Fur Color']=='Black'])\n",
    "print(temp_gray)\n",
    "print(temp_cin)\n",
    "print(temp_black)\n",
    "\n",
    "temp_dict = {\n",
    "    'Fur Color' : ['Gray','Cinnamon','Black'],\n",
    "    'Count' : [temp_gray, temp_cin, temp_black]\n",
    "}\n",
    "df = pd.DataFrame(temp_dict)\n",
    "df.to_csv(\"Squirrel_count.csv\")"
   ]
  },
  {
   "cell_type": "code",
   "execution_count": null,
   "id": "b8b2a89d",
   "metadata": {},
   "outputs": [],
   "source": []
  }
 ],
 "metadata": {
  "kernelspec": {
   "display_name": "Python 3",
   "language": "python",
   "name": "python3"
  },
  "language_info": {
   "codemirror_mode": {
    "name": "ipython",
    "version": 3
   },
   "file_extension": ".py",
   "mimetype": "text/x-python",
   "name": "python",
   "nbconvert_exporter": "python",
   "pygments_lexer": "ipython3",
   "version": "3.8.8"
  }
 },
 "nbformat": 4,
 "nbformat_minor": 5
}
