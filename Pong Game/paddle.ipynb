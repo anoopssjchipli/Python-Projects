{
 "cells": [
  {
   "cell_type": "code",
   "execution_count": 9,
   "id": "1101c758",
   "metadata": {},
   "outputs": [],
   "source": [
    "from turtle import Turtle"
   ]
  },
  {
   "cell_type": "code",
   "execution_count": 10,
   "id": "cce86c8c",
   "metadata": {},
   "outputs": [],
   "source": [
    "class Paddle(Turtle):\n",
    "    def __init__(self,x_position,y_position):\n",
    "        super().__init__()\n",
    "        self.x_pos = x_position\n",
    "        self.y_pos = y_position\n",
    "        self.create_paddle()\n",
    "        #self.shape(\"square\")\n",
    "        #self.shapesize(stretch_wid=5, stretch_len=1, outline=None)\n",
    "        #self.color(\"white\")\n",
    "        #self.penup()\n",
    "        #self.goto(self.x_pos,self.y_pos)\n",
    "    \n",
    "    def create_paddle(self):\n",
    "        self.shape(\"square\")\n",
    "        self.shapesize(stretch_wid=5, stretch_len=1, outline=None)\n",
    "        self.color(\"white\")\n",
    "        self.penup()\n",
    "        self.goto(self.x_pos,self.y_pos)\n",
    "    \n",
    "    \n",
    "    def go_up(self):\n",
    "        p_y_cor = self.ycor() + 20\n",
    "        self.goto(self.xcor(),p_y_cor)\n",
    "    \n",
    "    def go_down(self):\n",
    "        p_y_cor = self.ycor() - 20\n",
    "        self.goto(self.xcor(),p_y_cor)\n",
    "    \n",
    "    "
   ]
  }
 ],
 "metadata": {
  "kernelspec": {
   "display_name": "Python 3",
   "language": "python",
   "name": "python3"
  },
  "language_info": {
   "codemirror_mode": {
    "name": "ipython",
    "version": 3
   },
   "file_extension": ".py",
   "mimetype": "text/x-python",
   "name": "python",
   "nbconvert_exporter": "python",
   "pygments_lexer": "ipython3",
   "version": "3.8.8"
  }
 },
 "nbformat": 4,
 "nbformat_minor": 5
}
