{
 "cells": [
  {
   "cell_type": "code",
   "execution_count": 5,
   "id": "8a2f778c",
   "metadata": {},
   "outputs": [],
   "source": [
    "from turtle import Turtle\n",
    "from random import randint"
   ]
  },
  {
   "cell_type": "code",
   "execution_count": 6,
   "id": "c7b23d8e",
   "metadata": {},
   "outputs": [],
   "source": [
    "class Ball(Turtle):\n",
    "    \n",
    "    def __init__(self):\n",
    "        super().__init__()\n",
    "        self.create_ball()\n",
    "    \n",
    "    def create_ball(self):\n",
    "        self.shape(\"circle\")\n",
    "        self.color(\"white\")\n",
    "        self.penup()\n",
    "        self.x_move = 10\n",
    "        self.y_move = 10\n",
    "        self.move_speed = 0.1\n",
    "    \n",
    "    def move_ball(self):\n",
    "        new_x = self.xcor() + self.x_move\n",
    "        new_y = self.ycor() + self.y_move\n",
    "        self.goto(new_x,new_y)\n",
    "        \n",
    "        \n",
    "    def wall_collision(self):\n",
    "        self.y_move *= -1\n",
    "        \n",
    "    def paddle_collision(self):\n",
    "        self.x_move *= -1\n",
    "        self.move_speed *= 0.9\n",
    "    \n",
    "#initially I tried with setting the heading of the ball after keep moving forward which seems to be \n",
    "#easy but it looked wierd during collision so I had to change it to xcor() and ycor()   \n",
    "    '''def wall_collision(self):\n",
    "        current_heading = self.heading()\n",
    "        self.setheading(360 - current_heading)\n",
    "        \n",
    "    def paddle_collision(self):\n",
    "        current_heading = self.heading()\n",
    "        self.setheading(current_heading + 90)'''\n",
    "    \n",
    "    def reset_position(self):\n",
    "        self.goto(0,0)\n",
    "        self.move_speed = 0.1\n",
    "        self.paddle_collision()\n",
    "\n",
    "        #tried with this method to increase the speed of the ball but gets weird. So i had to depend on time.sleep method.\n",
    "    '''def increase_speed(self):\n",
    "        self.x_move += 20\n",
    "        self.y_move += 20'''\n",
    "        "
   ]
  }
 ],
 "metadata": {
  "kernelspec": {
   "display_name": "Python 3",
   "language": "python",
   "name": "python3"
  },
  "language_info": {
   "codemirror_mode": {
    "name": "ipython",
    "version": 3
   },
   "file_extension": ".py",
   "mimetype": "text/x-python",
   "name": "python",
   "nbconvert_exporter": "python",
   "pygments_lexer": "ipython3",
   "version": "3.8.8"
  }
 },
 "nbformat": 4,
 "nbformat_minor": 5
}
