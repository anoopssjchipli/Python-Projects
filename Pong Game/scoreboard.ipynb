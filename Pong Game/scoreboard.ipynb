{
 "cells": [
  {
   "cell_type": "code",
   "execution_count": 17,
   "id": "1dbee4a4",
   "metadata": {},
   "outputs": [],
   "source": [
    "from turtle import Turtle "
   ]
  },
  {
   "cell_type": "code",
   "execution_count": 18,
   "id": "d5e48396",
   "metadata": {},
   "outputs": [],
   "source": [
    "class Scoreboard(Turtle):\n",
    "    def __init__(self):\n",
    "        super().__init__()\n",
    "        self.color(\"White\")\n",
    "        self.penup()\n",
    "        self.hideturtle()\n",
    "        self.l_score = 0\n",
    "        self.r_score = 0\n",
    "        self.update_score()\n",
    "\n",
    "    def update_score(self):\n",
    "        self.clear()\n",
    "        self.goto(-100,200)\n",
    "        self.write(self.l_score, align=\"center\", font=(\"Courier\", 80, \"normal\"))\n",
    "        self.goto(100,200)\n",
    "        self.write(self.r_score, align=\"center\", font=(\"Courier\", 80, \"normal\"))\n",
    "        \n",
    "    def l_point(self):\n",
    "        self.l_score += 1\n",
    "        self.update_score()\n",
    "    \n",
    "    def r_point(self):\n",
    "        self.r_score += 1\n",
    "        self.update_score()"
   ]
  }
 ],
 "metadata": {
  "kernelspec": {
   "display_name": "Python 3",
   "language": "python",
   "name": "python3"
  },
  "language_info": {
   "codemirror_mode": {
    "name": "ipython",
    "version": 3
   },
   "file_extension": ".py",
   "mimetype": "text/x-python",
   "name": "python",
   "nbconvert_exporter": "python",
   "pygments_lexer": "ipython3",
   "version": "3.8.8"
  }
 },
 "nbformat": 4,
 "nbformat_minor": 5
}
