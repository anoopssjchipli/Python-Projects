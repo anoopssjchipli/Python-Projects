{
 "cells": [
  {
   "cell_type": "code",
   "execution_count": 1,
   "metadata": {},
   "outputs": [],
   "source": [
    "from turtle import *\n",
    "from random import randint"
   ]
  },
  {
   "cell_type": "code",
   "execution_count": 2,
   "metadata": {},
   "outputs": [],
   "source": [
    "timmy_the_turtle = Turtle()"
   ]
  },
  {
   "cell_type": "code",
   "execution_count": 3,
   "metadata": {},
   "outputs": [],
   "source": [
    "#timmy_the_turtle.shape(\"turtle\")\n",
    "#timmy_the_turtle.color(\"Red\")\n",
    "\n",
    "#drawing a square using this\n",
    "'''for i in range(4):\n",
    "    timmy_the_turtle.forward(100)\n",
    "    timmy_the_turtle.left(90)\n",
    "\n",
    "#Draw dashed lines\n",
    "for i in range(50):\n",
    "    timmy_the_turtle.forward(10)\n",
    "    timmy_the_turtle.penup()\n",
    "    timmy_the_turtle.forward(10)\n",
    "    timmy_the_turtle.pendown()'''\n",
    "\n",
    "\n",
    "#draw polygons one after the other where their base remains the same\n",
    "#probably you can use setheading(angle),right(angle),left(angle),home()\n",
    "'''colormode(255)\n",
    "\n",
    "l=75\n",
    "n=3\n",
    "while n<=8:\n",
    "    timmy_the_turtle.color(randint(0, 255), randint(0, 255), randint(0, 255))\n",
    "    for i in range(n):\n",
    "        timmy_the_turtle.forward(l)\n",
    "        timmy_the_turtle.right(360/n)\n",
    "    n+=1\n",
    "    #l+=10'''\n",
    "\n",
    "#Draw a random walk\n",
    "'''colormode(255)\n",
    "timmy_the_turtle.pensize(width=10)\n",
    "directions = [0, 90, 180, 270]\n",
    "looper = True\n",
    "while looper:\n",
    "    choice = randint(1,5)\n",
    "    if choice == 1:\n",
    "        timmy_the_turtle.forward(30)\n",
    "    elif choice == 2:\n",
    "        timmy_the_turtle.backward(30)\n",
    "    elif choice == 3:\n",
    "        timmy_the_turtle.left(90)\n",
    "    elif choice == 4:\n",
    "        timmy_the_turtle.right(90)\n",
    "    timmy_the_turtle.color(randint(0, 255), randint(0, 255), randint(0, 255))\n",
    "while looper:\n",
    "    timmy_the_turtle.color(randint(0, 255), randint(0, 255), randint(0, 255))\n",
    "    timmy_the_turtle.forward(30)\n",
    "    timmy_the_turtle.left(directions[randint(0,3)])'''\n",
    "\n",
    "#drawing a spirograph-1\n",
    "'''colormode(255)\n",
    "l=3.6\n",
    "timmy_the_turtle.speed(18)\n",
    "while l!=360:\n",
    "    timmy_the_turtle.circle(75)\n",
    "    timmy_the_turtle.color(randint(0, 255), randint(0, 255), randint(0, 255))\n",
    "    timmy_the_turtle.left(l)\n",
    "    l+=3.6'''\n",
    "\n",
    "\n",
    "#drawing a spirograph - 2\n",
    "#using heading and setheading method\n",
    "colormode(255)\n",
    "timmy_the_turtle.speed(18)\n",
    "\n",
    "def spirograph(size_of_gap):\n",
    "    for _ in range(int(360/size_of_gap)):\n",
    "        timmy_the_turtle.circle(100)\n",
    "        timmy_the_turtle.color(randint(0, 255), randint(0, 255), randint(0, 255))\n",
    "        current_heading = timmy_the_turtle.heading()\n",
    "        timmy_the_turtle.setheading(current_heading + 10)\n",
    "       \n",
    "\n",
    "\n",
    "spirograph(10)    \n",
    "        "
   ]
  },
  {
   "cell_type": "code",
   "execution_count": 4,
   "metadata": {},
   "outputs": [],
   "source": [
    "#screen = Screen()\n",
    "#screen.exitonclick()"
   ]
  },
  {
   "cell_type": "code",
   "execution_count": null,
   "metadata": {},
   "outputs": [],
   "source": []
  },
  {
   "cell_type": "code",
   "execution_count": null,
   "metadata": {},
   "outputs": [],
   "source": []
  }
 ],
 "metadata": {
  "kernelspec": {
   "display_name": "Python 3",
   "language": "python",
   "name": "python3"
  },
  "language_info": {
   "codemirror_mode": {
    "name": "ipython",
    "version": 3
   },
   "file_extension": ".py",
   "mimetype": "text/x-python",
   "name": "python",
   "nbconvert_exporter": "python",
   "pygments_lexer": "ipython3",
   "version": "3.8.8"
  }
 },
 "nbformat": 4,
 "nbformat_minor": 4
}
