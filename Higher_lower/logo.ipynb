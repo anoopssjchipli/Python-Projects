{
 "cells": [
  {
   "cell_type": "code",
   "execution_count": 1,
   "metadata": {},
   "outputs": [],
   "source": [
    "logo = '''\n",
    "  ___ ___ .__       .__                  \n",
    " /   |   \\|__| ____ |  |__   ___________ \n",
    "/    ~    \\  |/ ___\\|  |  \\_/ __ \\_  __ \\\n",
    "\\    Y    /  / /_/  >   Y  \\  ___/|  | \\/\n",
    " \\___|_  /|__\\___  /|___|  /\\___  >__|   \n",
    "       \\/   /_____/      \\/     \\/       \n",
    ".____                                    \n",
    "|    |    ______  _  __ ___________      \n",
    "|    |   /  _ \\ \\/ \\/ // __ \\_  __ \\     \n",
    "|    |__(  <_> )     /\\  ___/|  | \\/     \n",
    "|_______ \\____/ \\/\\_/  \\___  >__|        \n",
    "        \\/                 \\/            \n",
    "'''"
   ]
  },
  {
   "cell_type": "code",
   "execution_count": 2,
   "metadata": {},
   "outputs": [],
   "source": [
    "vs = '''\n",
    "          _______ \n",
    "|\\     /|(  ____ \\\n",
    "| )   ( || (    \\/\n",
    "| |   | || (_____ \n",
    "( (   ) )(_____  )\n",
    " \\ \\_/ /       ) |\n",
    "  \\   /  /\\____) |\n",
    "   \\_/   \\_______)\n",
    "                  \n",
    "'''"
   ]
  },
  {
   "cell_type": "code",
   "execution_count": null,
   "metadata": {},
   "outputs": [],
   "source": []
  }
 ],
 "metadata": {
  "kernelspec": {
   "display_name": "Python 3",
   "language": "python",
   "name": "python3"
  },
  "language_info": {
   "codemirror_mode": {
    "name": "ipython",
    "version": 3
   },
   "file_extension": ".py",
   "mimetype": "text/x-python",
   "name": "python",
   "nbconvert_exporter": "python",
   "pygments_lexer": "ipython3",
   "version": "3.8.5"
  }
 },
 "nbformat": 4,
 "nbformat_minor": 4
}
