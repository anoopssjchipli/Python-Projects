{
 "cells": [
  {
   "cell_type": "code",
   "execution_count": 1,
   "metadata": {},
   "outputs": [],
   "source": [
    "#running previous notebooks for data and logo\n",
    "%run data.ipynb\n",
    "%run logo.ipynb"
   ]
  },
  {
   "cell_type": "code",
   "execution_count": 5,
   "metadata": {},
   "outputs": [
    {
     "name": "stdout",
     "output_type": "stream",
     "text": [
      "{'name': 'Cristiano Ronaldo', 'follower_count': 215, 'description': 'Footballer', 'country': 'Portugal'}\n"
     ]
    }
   ],
   "source": [
    "#importing libraries \n",
    "import random\n",
    "from IPython.display import clear_output"
   ]
  },
  {
   "cell_type": "code",
   "execution_count": 27,
   "metadata": {},
   "outputs": [
    {
     "name": "stdout",
     "output_type": "stream",
     "text": [
      "\n",
      "  ___ ___ .__       .__                  \n",
      " /   |   \\|__| ____ |  |__   ___________ \n",
      "/    ~    \\  |/ ___\\|  |  \\_/ __ \\_  __ \\    Y    /  / /_/  >   Y  \\  ___/|  | \\/\n",
      " \\___|_  /|__\\___  /|___|  /\\___  >__|   \n",
      "       \\/   /_____/      \\/     \\/       \n",
      ".____                                    \n",
      "|    |    ______  _  __ ___________      \n",
      "|    |   /  _ \\ \\/ \\/ // __ \\_  __ \\     \n",
      "|    |__(  <_> )     /\\  ___/|  | \\/     \n",
      "|_______ \\____/ \\/\\_/  \\___  >__|        \n",
      "        \\/                 \\/            \n",
      "\n",
      "\n",
      "Option A: Instagram   Description:Social media platform   Nation:United States\n",
      "\n",
      "          _______ \n",
      "|\\     /|(  ____ | )   ( || (    \\/\n",
      "| |   | || (_____ \n",
      "( (   ) )(_____  )\n",
      " \\ \\_/ /       ) |\n",
      "  \\   /  /\\____) |\n",
      "   \\_/   \\_______)\n",
      "                  \n",
      "\n",
      "\n",
      "Option B: Cristiano Ronaldo   Description:Footballer   Nation:Portugal\n",
      "your current score is 0\n",
      "\n",
      "Choose which is greater. A or Ba\n",
      "\n",
      "You're Right !\n",
      "\n",
      "Option A: Cristiano Ronaldo   Description:Footballer   Nation:Portugal\n",
      "\n",
      "          _______ \n",
      "|\\     /|(  ____ | )   ( || (    \\/\n",
      "| |   | || (_____ \n",
      "( (   ) )(_____  )\n",
      " \\ \\_/ /       ) |\n",
      "  \\   /  /\\____) |\n",
      "   \\_/   \\_______)\n",
      "                  \n",
      "\n",
      "\n",
      "Option B: Ariana Grande   Description:Musician and actress   Nation:United States\n",
      "your current score is 1\n",
      "\n",
      "Choose which is greater. A or Ba\n",
      "\n",
      "You're Right !\n",
      "\n",
      "Option A: Ariana Grande   Description:Musician and actress   Nation:United States\n",
      "\n",
      "          _______ \n",
      "|\\     /|(  ____ | )   ( || (    \\/\n",
      "| |   | || (_____ \n",
      "( (   ) )(_____  )\n",
      " \\ \\_/ /       ) |\n",
      "  \\   /  /\\____) |\n",
      "   \\_/   \\_______)\n",
      "                  \n",
      "\n",
      "\n",
      "Option B: Dwayne Johnson   Description:Actor and professional wrestler   Nation:United States\n",
      "your current score is 2\n",
      "\n",
      "Choose which is greater. A or Bb\n",
      "\n",
      "You're Wrong !\n",
      "\n",
      "Your score was 2\n",
      "\n",
      "Do you want to play again ? Y or N N\n",
      "You chose not to play again. Have a Great Day !\n"
     ]
    }
   ],
   "source": [
    "print(logo)\n",
    "#Loop until user quits\n",
    "start = True\n",
    "score=0\n",
    "while start:\n",
    "    for iterator in range(0,50):\n",
    "        choice_a = data[iterator]\n",
    "        if iterator<49:\n",
    "            choice_b= data[iterator+1]\n",
    "        count_a = choice_a['follower_count']\n",
    "        count_b = choice_b['follower_count']\n",
    "        print(f\"\\nOption A: {choice_a['name']}   Description:{choice_a['description']}   Nation:{choice_a['country']}\")\n",
    "        print(vs)\n",
    "        print(f\"\\nOption B: {choice_b['name']}   Description:{choice_b['description']}   Nation:{choice_b['country']}\")\n",
    "        print(f\"your current score is {score}\")\n",
    "        user_answer = input(\"\\nChoose which is greater. A or B\")\n",
    "        if count_a>count_b:\n",
    "            actual_answer = 'a'\n",
    "        elif count_a<count_b:\n",
    "            actual_answer = 'b'\n",
    "        else:\n",
    "            actual_answer = 'Its a Tie !'\n",
    "        if user_answer!=actual_answer:\n",
    "            print(\"\\nYou're Wrong !\")\n",
    "            print(\"\\nYour score was\",score)\n",
    "            break\n",
    "        elif user_answer==actual_answer:\n",
    "            score+=1\n",
    "            print(\"\\nYou're Right !\")\n",
    "        else:\n",
    "            print(actual_answer)\n",
    "    player_choice = input(\"\\nDo you want to play again ? Y or N \")\n",
    "    if player_choice=='N':\n",
    "        print(\"You chose not to play again. Have a Great Day !\")\n",
    "        start = False\n",
    "        \n",
    "            \n",
    "            \n",
    "        "
   ]
  }
 ],
 "metadata": {
  "kernelspec": {
   "display_name": "Python 3",
   "language": "python",
   "name": "python3"
  },
  "language_info": {
   "codemirror_mode": {
    "name": "ipython",
    "version": 3
   },
   "file_extension": ".py",
   "mimetype": "text/x-python",
   "name": "python",
   "nbconvert_exporter": "python",
   "pygments_lexer": "ipython3",
   "version": "3.8.5"
  }
 },
 "nbformat": 4,
 "nbformat_minor": 4
}
