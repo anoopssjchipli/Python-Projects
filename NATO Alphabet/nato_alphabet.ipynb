{
 "cells": [
  {
   "cell_type": "code",
   "execution_count": 1,
   "id": "c2aea54c",
   "metadata": {},
   "outputs": [],
   "source": [
    "#create a list in this format {\"A\":\"Alpha\",\"B\":\"Bravo\"} \n",
    "#Create a list of phoenatic codewords from a word that the user inputs"
   ]
  },
  {
   "cell_type": "code",
   "execution_count": 2,
   "id": "524321a2",
   "metadata": {},
   "outputs": [],
   "source": [
    "import pandas as pd\n",
    "data = pd.read_csv(\"nato_phonetic_alphabet.csv\")\n",
    "#data=data.to_dict()"
   ]
  },
  {
   "cell_type": "code",
   "execution_count": 3,
   "id": "bb151d7f",
   "metadata": {},
   "outputs": [
    {
     "data": {
      "text/plain": [
       "'for (index,row) in data.iterrows():\\n    print(\"Index is:\",index)\\n    print(\"Print row is\",row)\\n    print(\"\\n\")'"
      ]
     },
     "execution_count": 3,
     "metadata": {},
     "output_type": "execute_result"
    }
   ],
   "source": [
    "#print(nato_alphabet_df.iterrows())\n",
    "'''for (index,row) in data.iterrows():\n",
    "    print(\"Index is:\",index)\n",
    "    print(\"Print row is\",row)\n",
    "    print(\"\\n\")'''"
   ]
  },
  {
   "cell_type": "code",
   "execution_count": 4,
   "id": "e4c49f5c",
   "metadata": {},
   "outputs": [
    {
     "name": "stdout",
     "output_type": "stream",
     "text": [
      "{'A': 'Alfa', 'B': 'Bravo', 'C': 'Charlie', 'D': 'Delta', 'E': 'Echo', 'F': 'Foxtrot', 'G': 'Golf', 'H': 'Hotel', 'I': 'India', 'J': 'Juliet', 'K': 'Kilo', 'L': 'Lima', 'M': 'Mike', 'N': 'November', 'O': 'Oscar', 'P': 'Papa', 'Q': 'Quebec', 'R': 'Romeo', 'S': 'Sierra', 'T': 'Tango', 'U': 'Uniform', 'V': 'Victor', 'W': 'Whiskey', 'X': 'X-ray', 'Y': 'Yankee', 'Z': 'Zulu'}\n"
     ]
    }
   ],
   "source": [
    "new_dict = {row.letter:row.code for (index,row) in data.iterrows()}\n",
    "print(new_dict)"
   ]
  },
  {
   "cell_type": "code",
   "execution_count": 5,
   "id": "9b5852b1",
   "metadata": {},
   "outputs": [
    {
     "data": {
      "text/plain": [
       "'loop_ison = True\\nwhile loop_ison:\\n    user_input = input(\"Enter a word\").upper()\\n    try:\\n        output_list = [new_dict[letter] for letter in user_input]\\n    except KeyError:\\n        print(\"Sorry, only letters in the alphabet please\")\\n    else:\\n        print(output_list)\\n        loop_ison = False'"
      ]
     },
     "execution_count": 5,
     "metadata": {},
     "output_type": "execute_result"
    }
   ],
   "source": [
    "'''loop_ison = True\n",
    "while loop_ison:\n",
    "    user_input = input(\"Enter a word\").upper()\n",
    "    try:\n",
    "        output_list = [new_dict[letter] for letter in user_input]\n",
    "    except KeyError:\n",
    "        print(\"Sorry, only letters in the alphabet please\")\n",
    "    else:\n",
    "        print(output_list)\n",
    "        loop_ison = False'''\n",
    "        "
   ]
  },
  {
   "cell_type": "code",
   "execution_count": 7,
   "id": "b5d91a31",
   "metadata": {},
   "outputs": [
    {
     "name": "stdout",
     "output_type": "stream",
     "text": [
      "Enter a word123\n",
      "Sorry, only letters in the alphabet please\n",
      "Enter a wordasd\n",
      "['Alfa', 'Sierra', 'Delta']\n"
     ]
    }
   ],
   "source": [
    "#instead of a loop for continues output we can define function,create try,except and then call that function.\n",
    "#ie...\n",
    "\n",
    "def generate_phonetic():\n",
    "    user_input = input(\"Enter a word\").upper()\n",
    "    try:\n",
    "        output_list = [new_dict[letter] for letter in user_input]\n",
    "    except KeyError:\n",
    "        print(\"Sorry, only letters in the alphabet please\")\n",
    "        generate_phonetic()\n",
    "    else:\n",
    "        print(output_list)\n",
    "        loop_ison = False\n",
    "\n",
    "generate_phonetic()\n"
   ]
  }
 ],
 "metadata": {
  "kernelspec": {
   "display_name": "Python 3",
   "language": "python",
   "name": "python3"
  },
  "language_info": {
   "codemirror_mode": {
    "name": "ipython",
    "version": 3
   },
   "file_extension": ".py",
   "mimetype": "text/x-python",
   "name": "python",
   "nbconvert_exporter": "python",
   "pygments_lexer": "ipython3",
   "version": "3.8.8"
  }
 },
 "nbformat": 4,
 "nbformat_minor": 5
}
