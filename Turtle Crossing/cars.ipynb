{
 "cells": [
  {
   "cell_type": "code",
   "execution_count": 28,
   "id": "8cd4bac1",
   "metadata": {},
   "outputs": [],
   "source": [
    "from turtle import Turtle\n",
    "from random import choice,randint"
   ]
  },
  {
   "cell_type": "code",
   "execution_count": 29,
   "id": "2b9918a6",
   "metadata": {},
   "outputs": [],
   "source": [
    "CAR_COLORS = [\"red\", \"yellow\" , \"blue\" , \"green\", \"orange\" , \"purple\", \"black\"] "
   ]
  },
  {
   "cell_type": "code",
   "execution_count": 30,
   "id": "810c4d7a",
   "metadata": {},
   "outputs": [],
   "source": [
    "class Gen_Cars():\n",
    "    def __init__(self):\n",
    "        self.total_cars = []\n",
    "        self.move_speed = 0.1\n",
    "        self.create_cars()\n",
    "        \n",
    "    def create_cars(self):\n",
    "        for _ in range(20):\n",
    "            temp_car = Turtle(\"square\")\n",
    "            #temp_car.shape()\n",
    "            temp_car.shapesize(stretch_wid=1, stretch_len=2)\n",
    "            temp_car.color(choice(CAR_COLORS))\n",
    "            temp_car.penup()\n",
    "            temp_car.setheading(180)\n",
    "            temp_car.goto((randint(0,300)),randint(-250,300))\n",
    "            self.total_cars.append(temp_car)\n",
    "            #temp_car.hideturtle()\n",
    "            \n",
    "    def move(self):\n",
    "        for cars in self.total_cars:\n",
    "            cars.forward(10)\n",
    "    #def car_position(self,)\n",
    "    \n",
    "    \n",
    "    def update_movespeed(self):\n",
    "        self.move_speed *= 0.9\n",
    "\n",
    "    def reset_position(self, cars):\n",
    "        #current_x = cars.xcor()\n",
    "        #current_y = cars.ycor()\n",
    "        cars.goto(300, randint(-250,300))\n",
    "        \n",
    "        #self.create_cars()\n",
    "        "
   ]
  }
 ],
 "metadata": {
  "kernelspec": {
   "display_name": "Python 3",
   "language": "python",
   "name": "python3"
  },
  "language_info": {
   "codemirror_mode": {
    "name": "ipython",
    "version": 3
   },
   "file_extension": ".py",
   "mimetype": "text/x-python",
   "name": "python",
   "nbconvert_exporter": "python",
   "pygments_lexer": "ipython3",
   "version": "3.8.8"
  }
 },
 "nbformat": 4,
 "nbformat_minor": 5
}
