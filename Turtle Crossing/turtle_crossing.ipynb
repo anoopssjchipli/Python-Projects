{
 "cells": [
  {
   "cell_type": "code",
   "execution_count": 1,
   "id": "128d2427",
   "metadata": {},
   "outputs": [],
   "source": [
    "%run turtle.ipynb\n",
    "%run cars.ipynb\n",
    "%run scoreboard.ipynb"
   ]
  },
  {
   "cell_type": "code",
   "execution_count": 2,
   "id": "f3aa2f3f",
   "metadata": {},
   "outputs": [],
   "source": [
    "from turtle import Screen\n",
    "import time"
   ]
  },
  {
   "cell_type": "code",
   "execution_count": 3,
   "id": "a041cbc5",
   "metadata": {},
   "outputs": [],
   "source": [
    "screen = Screen()\n",
    "screen.setup(width=600,height=600)\n",
    "screen.bgcolor(\"#f2f2f2\")\n",
    "screen.tracer(0)\n",
    "\n",
    "tom = Create_Turtle()\n",
    "game_cars = Gen_Cars()\n",
    "score = Scoreboard()\n",
    "\n",
    "screen.listen()\n",
    "screen.onkey(tom.moveup,\"Up\")\n",
    "screen.onkey(tom.movedown,\"Down\")\n",
    "\n",
    "game_ison = True\n",
    "\n",
    "while game_ison:\n",
    "    screen.update()\n",
    "    time.sleep(game_cars.move_speed)\n",
    "    \n",
    "    game_cars.move()\n",
    "    \n",
    "    #detect cars collision with the wall end and then reset their position\n",
    "    for car_iter in game_cars.total_cars:\n",
    "        if car_iter.xcor() < -300:\n",
    "            game_cars.reset_position(car_iter)\n",
    "    \n",
    "    #detect collision of turtle with the cars\n",
    "    for car_iter in game_cars.total_cars:\n",
    "        if car_iter.distance(tom) < 20:\n",
    "            score.game_end()\n",
    "            game_ison = False\n",
    "    \n",
    "    #detect collision of turtle with top screen, that is it reaches finish line\n",
    "    if tom.ycor() > 280:\n",
    "        time.sleep(1)\n",
    "        tom.turtle_reset()\n",
    "        score.increase_level()\n",
    "        game_cars.update_movespeed()\n",
    "            "
   ]
  },
  {
   "cell_type": "code",
   "execution_count": 4,
   "id": "2b909865",
   "metadata": {},
   "outputs": [],
   "source": [
    "screen.exitonclick()"
   ]
  }
 ],
 "metadata": {
  "kernelspec": {
   "display_name": "Python 3",
   "language": "python",
   "name": "python3"
  },
  "language_info": {
   "codemirror_mode": {
    "name": "ipython",
    "version": 3
   },
   "file_extension": ".py",
   "mimetype": "text/x-python",
   "name": "python",
   "nbconvert_exporter": "python",
   "pygments_lexer": "ipython3",
   "version": "3.8.8"
  }
 },
 "nbformat": 4,
 "nbformat_minor": 5
}
