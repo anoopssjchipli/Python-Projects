{
 "cells": [
  {
   "cell_type": "code",
   "execution_count": 3,
   "id": "5354ecb8",
   "metadata": {},
   "outputs": [],
   "source": [
    "from turtle import Turtle"
   ]
  },
  {
   "cell_type": "code",
   "execution_count": 4,
   "id": "30dd849c",
   "metadata": {},
   "outputs": [],
   "source": [
    "class Create_Turtle(Turtle):\n",
    "    def __init__(self):\n",
    "        super().__init__()\n",
    "        self.shape(\"turtle\")\n",
    "        self.color(\"black\")\n",
    "        self.penup()\n",
    "        self.setheading(90)\n",
    "        self.goto(0,-280)\n",
    "    \n",
    "    def moveup(self):\n",
    "        self.forward(20)\n",
    "    \n",
    "    def movedown(self):\n",
    "        self.backward(20)\n",
    "    \n",
    "    def turtle_reset(self):\n",
    "        self.goto(0,-280)"
   ]
  }
 ],
 "metadata": {
  "kernelspec": {
   "display_name": "Python 3",
   "language": "python",
   "name": "python3"
  },
  "language_info": {
   "codemirror_mode": {
    "name": "ipython",
    "version": 3
   },
   "file_extension": ".py",
   "mimetype": "text/x-python",
   "name": "python",
   "nbconvert_exporter": "python",
   "pygments_lexer": "ipython3",
   "version": "3.8.8"
  }
 },
 "nbformat": 4,
 "nbformat_minor": 5
}
