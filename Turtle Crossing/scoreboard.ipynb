{
 "cells": [
  {
   "cell_type": "code",
   "execution_count": 14,
   "id": "3a65fd65",
   "metadata": {},
   "outputs": [],
   "source": [
    "from turtle import Turtle"
   ]
  },
  {
   "cell_type": "code",
   "execution_count": 15,
   "id": "16425a4b",
   "metadata": {},
   "outputs": [],
   "source": [
    "class Scoreboard(Turtle):\n",
    "    def __init__(self):\n",
    "        super().__init__()\n",
    "        self.color(\"#3333cc\")\n",
    "        self.penup()\n",
    "        self.hideturtle()\n",
    "        self.level = 1\n",
    "        self.update_score()\n",
    "        self.gameover = \"Game Over !\"\n",
    "\n",
    "    def update_score(self):\n",
    "        self.clear()\n",
    "        self.goto(-250,270)\n",
    "        self.write(f\"Level:{self.level}\", align=\"center\", font=(\"Courier\", 10, \"normal\"))\n",
    "        \n",
    "    def increase_level(self):\n",
    "        self.level += 1\n",
    "        self.update_score()\n",
    "    \n",
    "    def game_end(self):\n",
    "        self.goto(0,0)\n",
    "        self.write(self.gameover,align=\"center\", font=(\"Courier\", 30, \"normal\"))"
   ]
  }
 ],
 "metadata": {
  "kernelspec": {
   "display_name": "Python 3",
   "language": "python",
   "name": "python3"
  },
  "language_info": {
   "codemirror_mode": {
    "name": "ipython",
    "version": 3
   },
   "file_extension": ".py",
   "mimetype": "text/x-python",
   "name": "python",
   "nbconvert_exporter": "python",
   "pygments_lexer": "ipython3",
   "version": "3.8.8"
  }
 },
 "nbformat": 4,
 "nbformat_minor": 5
}
