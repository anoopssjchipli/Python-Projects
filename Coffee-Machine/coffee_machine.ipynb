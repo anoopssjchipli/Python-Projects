{
 "cells": [
  {
   "cell_type": "code",
   "execution_count": 18,
   "metadata": {},
   "outputs": [],
   "source": [
    "#Running and importing the main data\n",
    "%run main.ipynb"
   ]
  },
  {
   "cell_type": "code",
   "execution_count": 19,
   "metadata": {},
   "outputs": [
    {
     "data": {
      "text/plain": [
       "{'espresso': {'ingredients': {'water': 50, 'milk': 0, 'coffee': 18},\n",
       "  'cost': 1.5},\n",
       " 'latte': {'ingredients': {'water': 200, 'milk': 150, 'coffee': 24},\n",
       "  'cost': 2.5},\n",
       " 'cappuccino': {'ingredients': {'water': 250, 'milk': 100, 'coffee': 24},\n",
       "  'cost': 3.0}}"
      ]
     },
     "execution_count": 19,
     "metadata": {},
     "output_type": "execute_result"
    }
   ],
   "source": [
    "MENU"
   ]
  },
  {
   "cell_type": "code",
   "execution_count": 20,
   "metadata": {},
   "outputs": [
    {
     "name": "stdout",
     "output_type": "stream",
     "text": [
      "1.5\n"
     ]
    }
   ],
   "source": [
    "#espresso_sample = MENU['espresso']\n",
    "print(MENU['espresso']['cost'])"
   ]
  },
  {
   "cell_type": "code",
   "execution_count": 24,
   "metadata": {},
   "outputs": [
    {
     "name": "stdout",
     "output_type": "stream",
     "text": [
      "\n",
      "What would you like to have? Espresso/Latte/Cappuccinoa\n",
      "\n",
      "How many Quarters ? 0\n",
      "\n",
      "How many Dimes ? 0\n",
      "\n",
      "How many Nickles ? 0\n",
      "\n",
      "How many Pennies ? 0\n",
      "\n",
      "Please enter a valid choice ! \n"
     ]
    }
   ],
   "source": [
    "def check_resource(coffee_type):\n",
    "    if machine_quantity['water']>=coffee_type['ingredients']['water'] and machine_quantity['milk']>=coffee_type['ingredients']['milk'] and machine_quantity['coffee']>=coffee_type['ingredients']['coffee']:\n",
    "        return True\n",
    "    else:\n",
    "        return False\n",
    "    \n",
    "#Process coins\n",
    "#check transaction successful and return change.\n",
    "def process_coins(temp_quarter, temp_dime, temp_nickle, temp_penny,temp_coffee_cost):\n",
    "    temp_total_machine = temp_coffee_cost\n",
    "    total_change = (temp_quarter * 0.25 + temp_dime * 0.1 + temp_nickle * 0.05 + temp_penny * 0.01) - temp_coffee_cost\n",
    "    global total_machine_money\n",
    "    total_machine_money += temp_total_machine\n",
    "    return total_change\n",
    "    \n",
    "        \n",
    "    \n",
    "\n",
    "\n",
    "#Make beverage and reduce resources\n",
    "def make_beverage(coffee_ingredients):\n",
    "    global machine_quantity\n",
    "    machine_quantity['water'] = machine_quantity['water'] - coffee_ingredients['water']\n",
    "    machine_quantity['milk'] = machine_quantity['milk'] - coffee_ingredients['milk']\n",
    "    machine_quantity['coffee'] = machine_quantity['coffee'] - coffee_ingredients['coffee']\n",
    "    \n",
    "    \n",
    "\n",
    "def give_machine_report():\n",
    "    print(\"\\nThe total money present in the coffee machine is $\",total_machine_money)\n",
    "    print(\"\\nThe total quantity of Water present in machine is \", machine_quantity['water'],\" ml\")\n",
    "    print(\"\\nThe total quantity of Milk present in machine is \", machine_quantity['milk'],\" ml\")\n",
    "    print(\"\\nThe total quantity of Coffee present in machine is \", machine_quantity['coffee'],\" ml\")\n",
    "\n",
    "#1.Print report-This is total quantity/resources remaining in the coffee machine\n",
    "done = True\n",
    "total_machine_money = 0\n",
    "machine_quantity = {'water': 500, 'milk': 250, 'coffee':100}                                      \n",
    "while done:\n",
    "    user_choice = input(\"\\nWhat would you like to have? Espresso/Latte/Cappuccino\")\n",
    "    user_quarter = int(input(\"\\nHow many Quarters ? \"))\n",
    "    user_dime = int(input(\"\\nHow many Dimes ? \"))\n",
    "    user_nickle = int(input(\"\\nHow many Nickles ? \"))\n",
    "    user_penny = int(input(\"\\nHow many Pennies ? \"))\n",
    "    \n",
    "#2.Check resource are sufficient before making coffee\n",
    "    if user_choice=='Espresso':\n",
    "        if check_resource(MENU['espresso']) == True:\n",
    "            total_change = process_coins(user_quarter,user_dime,user_nickle,user_penny,MENU['espresso']['cost'])\n",
    "            if total_change < 0:\n",
    "                print(f\"Sorry you have provided less money. Please provide the correct amount of money. The cost of your drink is {temp_coffee_cost}\")\n",
    "            else:\n",
    "                make_beverage(MENU['espresso']['ingredients'])\n",
    "                print(\"\\nHere's your Espresso! ☕️\")\n",
    "                print(\"\\nHere's your total change. $\", round(total_change,2))\n",
    "        else:\n",
    "            print(\"\\nSorry there's not enough ingredients to make your beverage \")\n",
    "            \n",
    "    elif user_choice=='Latte':\n",
    "        if check_resource(MENU['latte']) == True:\n",
    "            total_change = process_coins(user_quarter,user_dime,user_nickle,user_penny,MENU['latte']['cost'])\n",
    "            if total_change < 0:\n",
    "                print(f\"Sorry you have provided less money. Please provide the correct amount of money. The cost of your drink is {temp_coffee_cost}\")\n",
    "            else:\n",
    "                make_beverage(MENU['latte']['ingredients'])\n",
    "                print(\"\\nHere's your Latte! 🍵\")\n",
    "                print(\"\\nHere's your total change. $\", round(total_change,2))\n",
    "        else:\n",
    "            print(\"\\n Sorry there's not enough ingredients to make your beverage\")\n",
    "    elif user_choice=='Cappuccino':\n",
    "        if check_resource(MENU['cappuccino']) == True:\n",
    "            total_change = process_coins(user_quarter,user_dime,user_nickle,user_penny,MENU['cappuccino']['cost'])\n",
    "            if total_change < 0:\n",
    "                print(f\"Sorry you have provided less money. Please provide the correct amount of money. The cost of your drink is {temp_coffee_cost}\")\n",
    "            else:\n",
    "                make_beverage(MENU['cappuccino']['ingredients'])\n",
    "                print(\"\\nHere's your Cappuccino! 🍺\")\n",
    "                print(\"\\nHere's your total change. $\", round(total_change,2))\n",
    "        else:\n",
    "            print(\"\\n Sorry there's not enough ingredients to make your beverage\")\n",
    "    \n",
    "    elif user_choice=='report':\n",
    "        give_machine_report()\n",
    "    else:\n",
    "        print(\"\\nPlease enter a valid choice ! \")\n",
    "        done = False\n",
    "        \n",
    "\n",
    "            \n",
    "\n",
    "\n"
   ]
  },
  {
   "cell_type": "code",
   "execution_count": 25,
   "metadata": {},
   "outputs": [],
   "source": [
    "#Can be added a optional choice to refil the machine\n",
    "#can be added a automatic regular checker where it checks machine ingredients. If its out, then come out of loop and quit"
   ]
  }
 ],
 "metadata": {
  "kernelspec": {
   "display_name": "Python 3",
   "language": "python",
   "name": "python3"
  },
  "language_info": {
   "codemirror_mode": {
    "name": "ipython",
    "version": 3
   },
   "file_extension": ".py",
   "mimetype": "text/x-python",
   "name": "python",
   "nbconvert_exporter": "python",
   "pygments_lexer": "ipython3",
   "version": "3.8.5"
  }
 },
 "nbformat": 4,
 "nbformat_minor": 4
}
