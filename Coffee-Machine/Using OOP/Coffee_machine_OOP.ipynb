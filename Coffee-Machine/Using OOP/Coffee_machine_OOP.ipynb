{
 "cells": [
  {
   "cell_type": "code",
   "execution_count": 2,
   "metadata": {},
   "outputs": [],
   "source": [
    "%run coffee_maker.ipynb\n",
    "%run menu.ipynb\n",
    "%run money_machine.ipynb"
   ]
  },
  {
   "cell_type": "code",
   "execution_count": 3,
   "metadata": {},
   "outputs": [],
   "source": [
    "#from menu import Menu, MenuItem\n",
    "#from coffee_maker import CoffeeMaker\n",
    "#from money_machine import MoneyMachine"
   ]
  },
  {
   "cell_type": "code",
   "execution_count": 5,
   "metadata": {},
   "outputs": [
    {
     "name": "stdout",
     "output_type": "stream",
     "text": [
      "\n",
      "What would you like to have ?(latte/espresso/cappuccino/)latte\n",
      "Please insert coins.\n",
      "How many quarters?: 10\n",
      "How many dimes?: 10\n",
      "How many nickles?: 10\n",
      "How many pennies?: 10\n",
      "Here is $1.6 in change.\n",
      "Here is your latte ☕️. Enjoy!\n",
      "\n",
      "What would you like to have ?(latte/espresso/cappuccino/)off\n",
      "Sorry that item is not available.\n",
      "\n",
      "Please enter a valid choice ! \n"
     ]
    }
   ],
   "source": [
    "object_coffee_maker = CoffeeMaker()\n",
    "#object_menu_item = MenuItem()\n",
    "object_menu = Menu()\n",
    "object_money_machine = MoneyMachine()\n",
    "\n",
    "done = True\n",
    "                                     \n",
    "while done:\n",
    "    options = object_menu.get_items()\n",
    "    user_choice = input(f\"\\nWhat would you like to have ?({options})\")\n",
    "    drink_object = object_menu.find_drink(user_choice)\n",
    "    #object_money_machine.process_coins()\n",
    "    \n",
    "#2.Check resource are sufficient before making coffee\n",
    "    if user_choice=='espresso':\n",
    "        if object_coffee_maker.is_resource_sufficient(drink_object) and object_money_machine.make_payment(drink_object.cost):\n",
    "                object_coffee_maker.make_coffee(drink_object)\n",
    "             \n",
    "            \n",
    "    elif user_choice=='latte':\n",
    "            if object_coffee_maker.is_resource_sufficient(drink_object) and object_money_machine.make_payment(drink_object.cost):\n",
    "                object_coffee_maker.make_coffee(drink_object)\n",
    "                \n",
    "            \n",
    "    elif user_choice=='cappuccino':\n",
    "            if object_coffee_maker.is_resource_sufficient(drink_object) and object_money_machine.make_payment(drink_object.cost):\n",
    "                object_coffee_maker.make_coffee(drink_object)\n",
    "    \n",
    "    elif user_choice=='report':\n",
    "        object_coffee_maker.report()\n",
    "        object_money_machine.report()\n",
    "        \n",
    "    else:\n",
    "        print(\"\\nPlease enter a valid choice ! \")\n",
    "        done = False"
   ]
  }
 ],
 "metadata": {
  "kernelspec": {
   "display_name": "Python 3",
   "language": "python",
   "name": "python3"
  },
  "language_info": {
   "codemirror_mode": {
    "name": "ipython",
    "version": 3
   },
   "file_extension": ".py",
   "mimetype": "text/x-python",
   "name": "python",
   "nbconvert_exporter": "python",
   "pygments_lexer": "ipython3",
   "version": "3.8.5"
  }
 },
 "nbformat": 4,
 "nbformat_minor": 4
}
