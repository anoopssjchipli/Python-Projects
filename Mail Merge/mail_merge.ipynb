{
 "cells": [
  {
   "cell_type": "code",
   "execution_count": 4,
   "metadata": {},
   "outputs": [],
   "source": [
    "#create a letter using letter.docx\n",
    "#read the names from invited_names.docx and replace it on the letter\n",
    "#save the letter inside output folder\n",
    "#Its just a simple program for merging and 2 files and creating new file. just an attempt to learn about absolute\n",
    "#and relative paths and also file handling in python"
   ]
  },
  {
   "cell_type": "code",
   "execution_count": 5,
   "metadata": {},
   "outputs": [],
   "source": [
    "with open(\"Input/Letters/letter.docx\") as l:\n",
    "    letter = l.readlines()\n",
    "\n",
    "with open(\"Input/Names/names.txt\") as t:\n",
    "    names = t.read()\n",
    "\n",
    "invite_names = names.split()\n",
    "\n",
    "for name in invite_names:\n",
    "    with open(f\"Output/{name}.docx\",mode=\"w\") as output:\n",
    "        for word in letter:\n",
    "            temp = word.replace(\"[name]\",name)\n",
    "            output.write(temp)\n",
    "    \n",
    "            "
   ]
  }
 ],
 "metadata": {
  "kernelspec": {
   "display_name": "Python 3",
   "language": "python",
   "name": "python3"
  },
  "language_info": {
   "codemirror_mode": {
    "name": "ipython",
    "version": 3
   },
   "file_extension": ".py",
   "mimetype": "text/x-python",
   "name": "python",
   "nbconvert_exporter": "python",
   "pygments_lexer": "ipython3",
   "version": "3.8.8"
  }
 },
 "nbformat": 4,
 "nbformat_minor": 4
}
