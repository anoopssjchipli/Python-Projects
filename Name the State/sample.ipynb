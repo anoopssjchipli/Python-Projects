{
 "cells": [
  {
   "cell_type": "code",
   "execution_count": 19,
   "id": "3b992959",
   "metadata": {},
   "outputs": [
    {
     "name": "stdout",
     "output_type": "stream",
     "text": [
      "[12, 14, 15, 14, 21, 22, 24]\n"
     ]
    }
   ],
   "source": [
    "import csv\n",
    "temps = []\n",
    "with open(\"weather_data.csv\") as data:\n",
    "    contents = csv.reader(data)\n",
    "    for row in contents:\n",
    "        if row[1]!='temp':\n",
    "            \n",
    "            temps.append(int(row[1]))\n",
    "print(temps)"
   ]
  },
  {
   "cell_type": "code",
   "execution_count": null,
   "id": "6e31fd05",
   "metadata": {},
   "outputs": [],
   "source": []
  }
 ],
 "metadata": {
  "kernelspec": {
   "display_name": "Python 3",
   "language": "python",
   "name": "python3"
  },
  "language_info": {
   "codemirror_mode": {
    "name": "ipython",
    "version": 3
   },
   "file_extension": ".py",
   "mimetype": "text/x-python",
   "name": "python",
   "nbconvert_exporter": "python",
   "pygments_lexer": "ipython3",
   "version": "3.8.8"
  }
 },
 "nbformat": 4,
 "nbformat_minor": 5
}
