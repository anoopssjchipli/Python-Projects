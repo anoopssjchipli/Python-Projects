{
 "cells": [
  {
   "cell_type": "code",
   "execution_count": 1,
   "id": "6b00bbfe",
   "metadata": {},
   "outputs": [
    {
     "data": {
      "text/plain": [
       "'def get_mouse_click_coor(x, y):\\n    print(x, y)\\nturtle.onscreenclick(get_mouse_click_coor)\\nturtle.mainloop()'"
      ]
     },
     "execution_count": 1,
     "metadata": {},
     "output_type": "execute_result"
    }
   ],
   "source": [
    "import turtle\n",
    "\n",
    "screen = turtle.Screen()\n",
    "screen.title(\"U.S State Game\")\n",
    "image = \"blank_states_img.gif\"\n",
    "screen.addshape(image)\n",
    "\n",
    "turtle.shape(image)\n",
    "\n",
    "#used this code to get the coordinates for each states and then save them onto csv file\n",
    "'''def get_mouse_click_coor(x, y):\n",
    "    print(x, y)\n",
    "turtle.onscreenclick(get_mouse_click_coor)\n",
    "turtle.mainloop()'''\n",
    "\n",
    "\n"
   ]
  },
  {
   "cell_type": "markdown",
   "id": "938e5b43",
   "metadata": {},
   "source": [
    "### Breakdown\n",
    "3) Write the correct guess on the map\n",
    "4) use loop to allow user to keep guessing\n",
    "5) Record the correct guesses in a list\n",
    "6) Keep track of the score"
   ]
  },
  {
   "cell_type": "code",
   "execution_count": 2,
   "id": "911f8a87",
   "metadata": {},
   "outputs": [
    {
     "data": {
      "text/plain": [
       "'if states_data[\\'state\\']==answer_state:\\n    print(\"yes you are right\",answer_state)\\nelse:\\n    print(\"nope\")'"
      ]
     },
     "execution_count": 2,
     "metadata": {},
     "output_type": "execute_result"
    }
   ],
   "source": [
    "guessed_state = []\n",
    "\n",
    "while len(guessed_state) <50:\n",
    "    answer_state = screen.textinput(title=f\"{len(guessed_state)}/50 states\", prompt=\"What's another state's name ?\")\n",
    "    answer_state = answer_state.title()\n",
    "    if answer_state=='Exit':\n",
    "        break\n",
    "    import pandas as pd\n",
    "    states_data = pd.read_csv(\"50_states.csv\")\n",
    "    if answer_state in states_data.values:\n",
    "        guessed_state.append(answer_state)\n",
    "        t = turtle.Turtle()\n",
    "        t.hideturtle()\n",
    "        t.penup()\n",
    "    \n",
    "        x_cor = int(states_data[states_data.state==answer_state].x.values)\n",
    "        y_cor = int(states_data[states_data.state==answer_state].y.values)\n",
    "        t.goto(x_cor,y_cor)\n",
    "        t.write(answer_state)\n",
    "screen.exitonclick()    \n",
    "'''if states_data['state']==answer_state:\n",
    "    print(\"yes you are right\",answer_state)\n",
    "else:\n",
    "    print(\"nope\")'''"
   ]
  }
 ],
 "metadata": {
  "kernelspec": {
   "display_name": "Python 3",
   "language": "python",
   "name": "python3"
  },
  "language_info": {
   "codemirror_mode": {
    "name": "ipython",
    "version": 3
   },
   "file_extension": ".py",
   "mimetype": "text/x-python",
   "name": "python",
   "nbconvert_exporter": "python",
   "pygments_lexer": "ipython3",
   "version": "3.8.8"
  }
 },
 "nbformat": 4,
 "nbformat_minor": 5
}
